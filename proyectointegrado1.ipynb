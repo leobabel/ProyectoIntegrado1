{
 "cells": [
  {
   "cell_type": "markdown",
   "metadata": {},
   "source": [
    "# Videogames Analysis"
   ]
  },
  {
   "cell_type": "markdown",
   "metadata": {},
   "source": [
    "Formatos de revisor\n",
    "\n",
    "<div class=\"alert alert-block alert-success\">\n",
    "<b>Comentario del revisor</b> <a class=\"tocSkip\"></a>\n",
    "\n",
    "Correcto\n",
    "</div>\n",
    "\n",
    "<div class=\"alert alert-block alert-warning\">\n",
    "<b>Comentario del revisor</b> <a class=\"tocSkip\"></a>\n",
    "\n",
    "Observaciones y recomendaciones\n",
    "</div>\n",
    "\n",
    "<div class=\"alert alert-block alert-danger\">\n",
    "<b>Comentario del revisor</b> <a class=\"tocSkip\"></a>\n",
    "\n",
    "Necesita correcciones\n",
    "</div>\n",
    "\n",
    "<div class=\"alert alert-block alert-info\">\n",
    "<b>Respuesta del estudiante.</b> <a class=\"tocSkip\"></a>\n",
    "\n",
    "Respuesta del estudiante\n",
    "</div>"
   ]
  },
  {
   "cell_type": "markdown",
   "metadata": {},
   "source": [
    "*Start by importing libraries*"
   ]
  },
  {
   "cell_type": "code",
   "execution_count": 1,
   "metadata": {},
   "outputs": [],
   "source": [
    "import pandas as pd\n",
    "import matplotlib.pyplot as plt\n",
    "import seaborn as sns\n",
    "import numpy as np\n",
    "import scipy.stats as stats"
   ]
  },
  {
   "cell_type": "markdown",
   "metadata": {},
   "source": [
    "*Bring the dataset and save it in in a variable. I make sure the column name's are lower case*"
   ]
  },
  {
   "cell_type": "code",
   "execution_count": 2,
   "metadata": {},
   "outputs": [
    {
     "name": "stdout",
     "output_type": "stream",
     "text": [
      "                       name platform  year_of_release         genre  na_sales  \\\n",
      "0                Wii Sports      Wii           2006.0        Sports     41.36   \n",
      "1         Super Mario Bros.      NES           1985.0      Platform     29.08   \n",
      "2            Mario Kart Wii      Wii           2008.0        Racing     15.68   \n",
      "3         Wii Sports Resort      Wii           2009.0        Sports     15.61   \n",
      "4  Pokemon Red/Pokemon Blue       GB           1996.0  Role-Playing     11.27   \n",
      "\n",
      "   eu_sales  jp_sales  other_sales  critic_score user_score rating  \n",
      "0     28.96      3.77         8.45          76.0          8      E  \n",
      "1      3.58      6.81         0.77           NaN        NaN    NaN  \n",
      "2     12.76      3.79         3.29          82.0        8.3      E  \n",
      "3     10.93      3.28         2.95          80.0          8      E  \n",
      "4      8.89     10.22         1.00           NaN        NaN    NaN  \n",
      "\n",
      "<class 'pandas.core.frame.DataFrame'>\n",
      "RangeIndex: 16715 entries, 0 to 16714\n",
      "Data columns (total 11 columns):\n",
      " #   Column           Non-Null Count  Dtype  \n",
      "---  ------           --------------  -----  \n",
      " 0   name             16713 non-null  object \n",
      " 1   platform         16715 non-null  object \n",
      " 2   year_of_release  16446 non-null  float64\n",
      " 3   genre            16713 non-null  object \n",
      " 4   na_sales         16715 non-null  float64\n",
      " 5   eu_sales         16715 non-null  float64\n",
      " 6   jp_sales         16715 non-null  float64\n",
      " 7   other_sales      16715 non-null  float64\n",
      " 8   critic_score     8137 non-null   float64\n",
      " 9   user_score       10014 non-null  object \n",
      " 10  rating           9949 non-null   object \n",
      "dtypes: float64(6), object(5)\n",
      "memory usage: 1.4+ MB\n",
      "None\n"
     ]
    }
   ],
   "source": [
    "url = \"https://raw.githubusercontent.com/leobabel/ProyectoIntegrado1/main/games.csv\"\n",
    "df = pd.read_csv(url)\n",
    "df.columns = df.columns.str.lower()\n",
    "print(df.head())\n",
    "print()\n",
    "print(df.info())\n"
   ]
  },
  {
   "cell_type": "markdown",
   "metadata": {},
   "source": [
    "## Data Prep"
   ]
  },
  {
   "cell_type": "markdown",
   "metadata": {},
   "source": [
    "*Let's count the null values*"
   ]
  },
  {
   "cell_type": "code",
   "execution_count": 3,
   "metadata": {},
   "outputs": [
    {
     "name": "stdout",
     "output_type": "stream",
     "text": [
      "name                  2\n",
      "platform              0\n",
      "year_of_release     269\n",
      "genre                 2\n",
      "na_sales              0\n",
      "eu_sales              0\n",
      "jp_sales              0\n",
      "other_sales           0\n",
      "critic_score       8578\n",
      "user_score         6701\n",
      "rating             6766\n",
      "dtype: int64\n"
     ]
    }
   ],
   "source": [
    "print(df.isnull().sum())"
   ]
  },
  {
   "cell_type": "markdown",
   "metadata": {},
   "source": [
    "*Let's visualize null values from the column \"name\"; we can observe that these two indexes (659 and 1422) also contain the null values from the column \"genre\".*"
   ]
  },
  {
   "cell_type": "code",
   "execution_count": 4,
   "metadata": {},
   "outputs": [
    {
     "name": "stdout",
     "output_type": "stream",
     "text": [
      "      name platform  year_of_release genre  na_sales  eu_sales  jp_sales  \\\n",
      "659    NaN      GEN           1993.0   NaN      1.78      0.53      0.00   \n",
      "14244  NaN      GEN           1993.0   NaN      0.00      0.00      0.03   \n",
      "\n",
      "       other_sales  critic_score user_score rating  \n",
      "659           0.08           NaN        NaN    NaN  \n",
      "14244         0.00           NaN        NaN    NaN  \n",
      "___________________________________________________________________________\n",
      "      name platform  year_of_release genre  na_sales  eu_sales  jp_sales  \\\n",
      "659    NaN      GEN           1993.0   NaN      1.78      0.53      0.00   \n",
      "14244  NaN      GEN           1993.0   NaN      0.00      0.00      0.03   \n",
      "\n",
      "       other_sales  critic_score user_score rating  \n",
      "659           0.08           NaN        NaN    NaN  \n",
      "14244         0.00           NaN        NaN    NaN  \n"
     ]
    }
   ],
   "source": [
    "print(df[df['name'].isnull()])\n",
    "print('_'*75)\n",
    "print(df[df['genre'].isnull()])"
   ]
  },
  {
   "cell_type": "markdown",
   "metadata": {},
   "source": [
    "### Actions regarding null values and their justification:\n",
    "\n",
    "1.- Removal of entries at indexes 659 and 14244: These two indexes exclusively contain null values in the 'name' and 'genre' columns.\n",
    "\n",
    "2.- Elimination of 269 null values from the 'year_of_release' column:\n",
    "\n",
    "These deletions account for only 1.63% of the total records. Consequently, their removal will not significantly affect the overall analysis.\n",
    "\n",
    "3.- I'm going to convert the \"user_score\" column from object to float64. "
   ]
  },
  {
   "cell_type": "code",
   "execution_count": 5,
   "metadata": {},
   "outputs": [
    {
     "name": "stdout",
     "output_type": "stream",
     "text": [
      "<class 'pandas.core.frame.DataFrame'>\n",
      "Int64Index: 16444 entries, 0 to 16714\n",
      "Data columns (total 11 columns):\n",
      " #   Column           Non-Null Count  Dtype  \n",
      "---  ------           --------------  -----  \n",
      " 0   name             16444 non-null  object \n",
      " 1   platform         16444 non-null  object \n",
      " 2   year_of_release  16444 non-null  float64\n",
      " 3   genre            16444 non-null  object \n",
      " 4   na_sales         16444 non-null  float64\n",
      " 5   eu_sales         16444 non-null  float64\n",
      " 6   jp_sales         16444 non-null  float64\n",
      " 7   other_sales      16444 non-null  float64\n",
      " 8   critic_score     7983 non-null   float64\n",
      " 9   user_score       9839 non-null   object \n",
      " 10  rating           9768 non-null   object \n",
      "dtypes: float64(6), object(5)\n",
      "memory usage: 1.5+ MB\n",
      "None\n"
     ]
    }
   ],
   "source": [
    "# Alright, go away, mf'ers\n",
    "df.dropna(subset=['name', 'genre', 'year_of_release'], inplace=True)\n",
    "print(df.info())\n"
   ]
  },
  {
   "cell_type": "markdown",
   "metadata": {},
   "source": [
    "Let's change 'year_of_release' data type from float64 to something more useful."
   ]
  },
  {
   "cell_type": "code",
   "execution_count": 6,
   "metadata": {},
   "outputs": [
    {
     "name": "stdout",
     "output_type": "stream",
     "text": [
      "                       name platform  year_of_release         genre  na_sales  \\\n",
      "0                Wii Sports      Wii             2006        Sports     41.36   \n",
      "1         Super Mario Bros.      NES             1985      Platform     29.08   \n",
      "2            Mario Kart Wii      Wii             2008        Racing     15.68   \n",
      "3         Wii Sports Resort      Wii             2009        Sports     15.61   \n",
      "4  Pokemon Red/Pokemon Blue       GB             1996  Role-Playing     11.27   \n",
      "\n",
      "   eu_sales  jp_sales  other_sales  critic_score user_score rating  \n",
      "0     28.96      3.77         8.45          76.0          8      E  \n",
      "1      3.58      6.81         0.77           NaN        NaN    NaN  \n",
      "2     12.76      3.79         3.29          82.0        8.3      E  \n",
      "3     10.93      3.28         2.95          80.0          8      E  \n",
      "4      8.89     10.22         1.00           NaN        NaN    NaN  \n",
      "<class 'pandas.core.frame.DataFrame'>\n",
      "Int64Index: 16444 entries, 0 to 16714\n",
      "Data columns (total 11 columns):\n",
      " #   Column           Non-Null Count  Dtype  \n",
      "---  ------           --------------  -----  \n",
      " 0   name             16444 non-null  object \n",
      " 1   platform         16444 non-null  object \n",
      " 2   year_of_release  16444 non-null  int64  \n",
      " 3   genre            16444 non-null  object \n",
      " 4   na_sales         16444 non-null  float64\n",
      " 5   eu_sales         16444 non-null  float64\n",
      " 6   jp_sales         16444 non-null  float64\n",
      " 7   other_sales      16444 non-null  float64\n",
      " 8   critic_score     7983 non-null   float64\n",
      " 9   user_score       9839 non-null   object \n",
      " 10  rating           9768 non-null   object \n",
      "dtypes: float64(5), int64(1), object(5)\n",
      "memory usage: 1.5+ MB\n",
      "None\n"
     ]
    }
   ],
   "source": [
    "# Convert 'year_of_release' to datetime keeping only the year\n",
    "df['year_of_release'] = pd.to_datetime(df['year_of_release'], format='%Y', errors='coerce').dt.year\n",
    "\n",
    "# Verify the changes\n",
    "print(df.head())\n",
    "print(df.info())\n"
   ]
  },
  {
   "cell_type": "markdown",
   "metadata": {},
   "source": [
    "Let's Replace 'tbd' with NaN in the 'user_score' column, because we're going to change its data type from object to float64. Then, we convert 'user_score' column from object to float64 in order to make statistical calculations further"
   ]
  },
  {
   "cell_type": "code",
   "execution_count": 7,
   "metadata": {},
   "outputs": [
    {
     "name": "stdout",
     "output_type": "stream",
     "text": [
      "                       name platform  year_of_release         genre  na_sales  \\\n",
      "0                Wii Sports      Wii             2006        Sports     41.36   \n",
      "1         Super Mario Bros.      NES             1985      Platform     29.08   \n",
      "2            Mario Kart Wii      Wii             2008        Racing     15.68   \n",
      "3         Wii Sports Resort      Wii             2009        Sports     15.61   \n",
      "4  Pokemon Red/Pokemon Blue       GB             1996  Role-Playing     11.27   \n",
      "\n",
      "   eu_sales  jp_sales  other_sales  critic_score  user_score rating  \n",
      "0     28.96      3.77         8.45          76.0         8.0      E  \n",
      "1      3.58      6.81         0.77           NaN         NaN    NaN  \n",
      "2     12.76      3.79         3.29          82.0         8.3      E  \n",
      "3     10.93      3.28         2.95          80.0         8.0      E  \n",
      "4      8.89     10.22         1.00           NaN         NaN    NaN  \n",
      "<class 'pandas.core.frame.DataFrame'>\n",
      "Int64Index: 16444 entries, 0 to 16714\n",
      "Data columns (total 11 columns):\n",
      " #   Column           Non-Null Count  Dtype  \n",
      "---  ------           --------------  -----  \n",
      " 0   name             16444 non-null  object \n",
      " 1   platform         16444 non-null  object \n",
      " 2   year_of_release  16444 non-null  int64  \n",
      " 3   genre            16444 non-null  object \n",
      " 4   na_sales         16444 non-null  float64\n",
      " 5   eu_sales         16444 non-null  float64\n",
      " 6   jp_sales         16444 non-null  float64\n",
      " 7   other_sales      16444 non-null  float64\n",
      " 8   critic_score     7983 non-null   float64\n",
      " 9   user_score       7463 non-null   float64\n",
      " 10  rating           9768 non-null   object \n",
      "dtypes: float64(6), int64(1), object(4)\n",
      "memory usage: 1.5+ MB\n",
      "None\n"
     ]
    }
   ],
   "source": [
    "df['user_score'] = df['user_score'].replace('tbd', np.nan)\n",
    "df['user_score'] = df['user_score'].astype('float64')\n",
    "\n",
    "# Verify the changes\n",
    "print(df.head())\n",
    "print(df.info())"
   ]
  },
  {
   "cell_type": "markdown",
   "metadata": {},
   "source": [
    "Let's check the unique values in 'rating' colum in order to get familiarized with the titles"
   ]
  },
  {
   "cell_type": "code",
   "execution_count": 8,
   "metadata": {},
   "outputs": [
    {
     "name": "stdout",
     "output_type": "stream",
     "text": [
      "E\n",
      "nan\n",
      "M\n",
      "T\n",
      "E10+\n",
      "K-A\n",
      "AO\n",
      "EC\n",
      "RP\n"
     ]
    }
   ],
   "source": [
    "unique_ratings = df['rating'].unique()\n",
    "for rating in unique_ratings:\n",
    "    print(rating)"
   ]
  },
  {
   "cell_type": "markdown",
   "metadata": {},
   "source": [
    "Alright, so, these ratings correspond to the ESRB (Entertainment Software Rating Board) ratings for video games. Here's what each rating means:\n",
    "\n",
    "- <b>E (Everyone):</b> Suitable for all ages. Content is generally suitable for all ages. May contain minimal cartoon, fantasy, or mild violence and/or infrequent use of mild language.\n",
    "\n",
    "- <b>EC (Early Childhood):</b> Suitable for young children. Content is intended for young children and contains no material that parents would find inappropriate.\n",
    "\n",
    "- <b>E10+ (Everyone 10 and older):</b> Suitable for ages 10 and older. Content is generally suitable for ages 10 and up. May contain more cartoon, fantasy, or mild violence, mild language, and/or minimal suggestive themes.\n",
    "\n",
    "- <b>K-A (Kids to Adults):</b> An early rating used by the ESRB before 1998, which was replaced by the \"E\" rating. Suitable for ages 6 and older.\n",
    "\n",
    "- <b>T (Teen):</b> Suitable for ages 13 and older. Content may include violence, suggestive themes, crude humor, minimal blood, simulated gambling, and/or infrequent use of strong language.\n",
    "\n",
    "- <b>M (Mature):</b> Suitable for ages 17 and older. May contain intense violence, blood and gore, sexual content, and/or strong language.\n",
    "\n",
    "- <b>AO (Adults Only):</b> Suitable only for adults ages 18 and older. May include prolonged scenes of intense violence, graphic sexual content, and/or gambling with real currency.\n",
    "\n",
    "- <b>RP (Rating Pending):</b> This is a placeholder used for games that have been submitted to the ESRB and are awaiting a final rating.\n",
    "\n",
    "These ratings help consumers, especially parents, make informed choices about the video games they purchase."
   ]
  },
  {
   "cell_type": "code",
   "execution_count": 9,
   "metadata": {},
   "outputs": [
    {
     "name": "stdout",
     "output_type": "stream",
     "text": [
      "Rating: E, Registros: 3921, Porcentaje: 23.84%\n",
      "Rating: nan, Registros: 0, Porcentaje: 0.00%\n",
      "Rating: M, Registros: 1536, Porcentaje: 9.34%\n",
      "Rating: T, Registros: 2905, Porcentaje: 17.67%\n",
      "Rating: E10+, Registros: 1393, Porcentaje: 8.47%\n",
      "Rating: K-A, Registros: 3, Porcentaje: 0.02%\n",
      "Rating: AO, Registros: 1, Porcentaje: 0.01%\n",
      "Rating: EC, Registros: 8, Porcentaje: 0.05%\n",
      "Rating: RP, Registros: 1, Porcentaje: 0.01%\n"
     ]
    }
   ],
   "source": [
    "# Obtener los valores únicos en la columna 'rating'\n",
    "unique_ratings = df['rating'].unique()\n",
    "\n",
    "# Obtener el total de registros en el DataFrame\n",
    "total_records = len(df)\n",
    "\n",
    "# Iterar sobre cada rating único\n",
    "for rating in unique_ratings:\n",
    "    # Contar el número de registros con el rating actual\n",
    "    rating_count = df[df['rating'] == rating].shape[0]\n",
    "    \n",
    "    # Calcular el porcentaje de registros que representan\n",
    "    percentage = (rating_count / total_records) * 100\n",
    "    \n",
    "    # Imprimir el rating, el número de registros y el porcentaje\n",
    "    print(f\"Rating: {rating}, Registros: {rating_count}, Porcentaje: {percentage:.2f}%\")\n"
   ]
  },
  {
   "cell_type": "code",
   "execution_count": 10,
   "metadata": {},
   "outputs": [
    {
     "name": "stdout",
     "output_type": "stream",
     "text": [
      "Wii\n",
      "NES\n",
      "GB\n",
      "DS\n",
      "X360\n",
      "PS3\n",
      "PS2\n",
      "SNES\n",
      "GBA\n",
      "PS4\n",
      "3DS\n",
      "N64\n",
      "PS\n",
      "XB\n",
      "PC\n",
      "2600\n",
      "PSP\n",
      "XOne\n",
      "WiiU\n",
      "GC\n",
      "GEN\n",
      "DC\n",
      "PSV\n",
      "SAT\n",
      "SCD\n",
      "WS\n",
      "NG\n",
      "TG16\n",
      "3DO\n",
      "GG\n",
      "PCFX\n",
      "\n",
      "Number of platforms: 31\n"
     ]
    }
   ],
   "source": [
    "# Get unique values in the 'platform' column\n",
    "unique_platforms = df['platform'].unique()\n",
    "for platform in unique_platforms:\n",
    "    print(platform)\n",
    "print()\n",
    "# Count the number of unique platforms\n",
    "num_unique_platforms = df['platform'].nunique()\n",
    "print(f\"Number of platforms: {num_unique_platforms}\")\n"
   ]
  },
  {
   "cell_type": "markdown",
   "metadata": {},
   "source": [
    "Alright, now we'd like to know many genres we do have and which genres this dataframe includes:"
   ]
  },
  {
   "cell_type": "code",
   "execution_count": 11,
   "metadata": {},
   "outputs": [
    {
     "name": "stdout",
     "output_type": "stream",
     "text": [
      "Género: Action | Registros: 3307 | Porcentaje: 20.11%\n",
      "Género: Sports | Registros: 2306 | Porcentaje: 14.02%\n",
      "Género: Misc | Registros: 1721 | Porcentaje: 10.47%\n",
      "Género: Role-Playing | Registros: 1481 | Porcentaje: 9.01%\n",
      "Género: Shooter | Registros: 1296 | Porcentaje: 7.88%\n",
      "Género: Adventure | Registros: 1293 | Porcentaje: 7.86%\n",
      "Género: Racing | Registros: 1226 | Porcentaje: 7.46%\n",
      "Género: Platform | Registros: 878 | Porcentaje: 5.34%\n",
      "Género: Simulation | Registros: 857 | Porcentaje: 5.21%\n",
      "Género: Fighting | Registros: 837 | Porcentaje: 5.09%\n",
      "Género: Strategy | Registros: 673 | Porcentaje: 4.09%\n",
      "Género: Puzzle | Registros: 569 | Porcentaje: 3.46%\n",
      "\n",
      "Número de géneros: 12\n"
     ]
    }
   ],
   "source": [
    "# Obtener los valores únicos en la columna 'genre'\n",
    "unique_genres = df['genre'].unique()\n",
    "\n",
    "# Crear un diccionario para almacenar los conteos de cada género\n",
    "genre_counts = {}\n",
    "\n",
    "# Contar el número total de registros\n",
    "total_records = len(df)\n",
    "\n",
    "# Iterar sobre cada género único y contar el número de registros\n",
    "for genre in unique_genres:\n",
    "    genre_count = df[df['genre'] == genre].shape[0]\n",
    "    genre_counts[genre] = genre_count\n",
    "\n",
    "# Ordenar los géneros por conteo en orden descendente\n",
    "sorted_genres = sorted(genre_counts.items(), key=lambda x: x[1], reverse=True)\n",
    "\n",
    "# Imprimir los géneros, sus conteos y porcentajes en orden descendente\n",
    "for genre, count in sorted_genres:\n",
    "    percentage = (count / total_records) * 100\n",
    "    print(f\"Género: {genre} | Registros: {count} | Porcentaje: {percentage:.2f}%\")\n",
    "\n",
    "# Contar el número de géneros únicos\n",
    "num_unique_genres = df['genre'].nunique()\n",
    "print(f\"\\nNúmero de géneros: {num_unique_genres}\")"
   ]
  },
  {
   "cell_type": "code",
   "execution_count": 12,
   "metadata": {},
   "outputs": [
    {
     "name": "stdout",
     "output_type": "stream",
     "text": [
      "The minimum year is: 1980\n",
      "The maximum year is: 2016\n",
      "The span of time in the dataframe is: 36 years\n"
     ]
    }
   ],
   "source": [
    "# Find the minimum and maximum year in the 'year_of_release' column\n",
    "min_year = df['year_of_release'].min()\n",
    "max_year = df['year_of_release'].max()\n",
    "\n",
    "# Calculate the span of time\n",
    "time_span = max_year - min_year\n",
    "\n",
    "print(f\"The minimum year is: {min_year}\")\n",
    "print(f\"The maximum year is: {max_year}\")\n",
    "print(f\"The span of time in the dataframe is: {time_span} years\")\n"
   ]
  },
  {
   "cell_type": "markdown",
   "metadata": {},
   "source": [
    "Let's sum all sales and place those total sales un a new column"
   ]
  },
  {
   "cell_type": "code",
   "execution_count": 16,
   "metadata": {},
   "outputs": [
    {
     "name": "stdout",
     "output_type": "stream",
     "text": [
      "                       name platform  year_of_release         genre  na_sales  \\\n",
      "0                Wii Sports      Wii             2006        Sports     41.36   \n",
      "1         Super Mario Bros.      NES             1985      Platform     29.08   \n",
      "2            Mario Kart Wii      Wii             2008        Racing     15.68   \n",
      "3         Wii Sports Resort      Wii             2009        Sports     15.61   \n",
      "4  Pokemon Red/Pokemon Blue       GB             1996  Role-Playing     11.27   \n",
      "\n",
      "   eu_sales  jp_sales  other_sales  total_sales  critic_score  user_score  \\\n",
      "0     28.96      3.77         8.45        82.54          76.0         8.0   \n",
      "1      3.58      6.81         0.77        40.24           NaN         NaN   \n",
      "2     12.76      3.79         3.29        35.52          82.0         8.3   \n",
      "3     10.93      3.28         2.95        32.77          80.0         8.0   \n",
      "4      8.89     10.22         1.00        31.38           NaN         NaN   \n",
      "\n",
      "  rating  \n",
      "0      E  \n",
      "1    NaN  \n",
      "2      E  \n",
      "3      E  \n",
      "4    NaN  \n"
     ]
    }
   ],
   "source": [
    "# Sum sales from 'na_sales', 'eu_sales', 'jp_sales', 'other_sales'\n",
    "df['total_sales'] = df[['na_sales', 'eu_sales', 'jp_sales', 'other_sales']].sum(axis=1)\n",
    "\n",
    "# Insert the new column 'total_sales' after 'other_sales'\n",
    "other_sales_index = df.columns.get_loc('other_sales')\n",
    "df.insert(other_sales_index + 1, 'total_sales', df.pop('total_sales'))\n",
    "\n",
    "# Display the modified dataframe\n",
    "print(df.head())\n"
   ]
  },
  {
   "cell_type": "code",
   "execution_count": 18,
   "metadata": {},
   "outputs": [
    {
     "name": "stdout",
     "output_type": "stream",
     "text": [
      "The game with the lowest critic score:\n",
      "name               Ride to Hell\n",
      "platform                    PS3\n",
      "year_of_release            2013\n",
      "genre                    Racing\n",
      "na_sales                   0.02\n",
      "eu_sales                   0.01\n",
      "jp_sales                    0.0\n",
      "other_sales                0.01\n",
      "total_sales                0.04\n",
      "critic_score               13.0\n",
      "user_score                  1.0\n",
      "rating                        M\n",
      "Name: 13689, dtype: object\n",
      "\n",
      "The game with the highest critic score:\n",
      "name               Grand Theft Auto IV\n",
      "platform                          X360\n",
      "year_of_release                   2008\n",
      "genre                           Action\n",
      "na_sales                          6.76\n",
      "eu_sales                          3.07\n",
      "jp_sales                          0.14\n",
      "other_sales                       1.03\n",
      "total_sales                       11.0\n",
      "critic_score                      98.0\n",
      "user_score                         7.9\n",
      "rating                               M\n",
      "Name: 51, dtype: object\n",
      "\n",
      "Minimum critic score: 13.0\n",
      "Maximum critic score: 98.0\n",
      "Average critic score: 68.99\n",
      "Median critic score: 71.0\n",
      "Standard deviation of critic scores: 13.92\n",
      "25th percentile (Q1) of critic scores: 60.0\n",
      "75th percentile (Q3) of critic scores: 79.0\n",
      "Count of non-null critic scores: 7983\n",
      "Mode of critic scores: 70.0\n"
     ]
    }
   ],
   "source": [
    "# Calculate statistics for 'critic_score'\n",
    "min_cs = df['critic_score'].min()\n",
    "max_cs = df['critic_score'].max()\n",
    "average_cs = df['critic_score'].mean()\n",
    "median_cs = df['critic_score'].median()\n",
    "std_dev_cs = df['critic_score'].std()\n",
    "q1_cs = df['critic_score'].quantile(0.25)\n",
    "q3_cs = df['critic_score'].quantile(0.75)\n",
    "count_cs = df['critic_score'].count()\n",
    "mode_cs = df['critic_score'].mode()[0] if not df['critic_score'].mode().empty else 'No mode'\n",
    "\n",
    "# Get the games with the lowest and highest critic scores\n",
    "game_with_lowest_cs = df.loc[df['critic_score'].idxmin()]\n",
    "game_with_highest_cs = df.loc[df['critic_score'].idxmax()]\n",
    "\n",
    "# Print results\n",
    "print(f\"The game with the lowest critic score:\\n{game_with_lowest_cs}\\n\")\n",
    "print(f\"The game with the highest critic score:\\n{game_with_highest_cs}\\n\")\n",
    "print(f\"Minimum critic score: {min_cs}\")\n",
    "print(f\"Maximum critic score: {max_cs}\")\n",
    "print(f\"Average critic score: {average_cs:.2f}\")\n",
    "print(f\"Median critic score: {median_cs}\")\n",
    "print(f\"Standard deviation of critic scores: {std_dev_cs:.2f}\")\n",
    "print(f\"25th percentile (Q1) of critic scores: {q1_cs}\")\n",
    "print(f\"75th percentile (Q3) of critic scores: {q3_cs}\")\n",
    "print(f\"Count of non-null critic scores: {count_cs}\")\n",
    "print(f\"Mode of critic scores: {mode_cs}\")"
   ]
  },
  {
   "cell_type": "code",
   "execution_count": 19,
   "metadata": {},
   "outputs": [
    {
     "name": "stdout",
     "output_type": "stream",
     "text": [
      "The game with the lowest user score:\n",
      "name               My Little Pony: Pinkie Pie's Party\n",
      "platform                                           DS\n",
      "year_of_release                                  2008\n",
      "genre                                       Adventure\n",
      "na_sales                                         0.66\n",
      "eu_sales                                          0.0\n",
      "jp_sales                                          0.0\n",
      "other_sales                                      0.06\n",
      "total_sales                                      0.72\n",
      "critic_score                                      NaN\n",
      "user_score                                        0.0\n",
      "rating                                              E\n",
      "Name: 2835, dtype: object\n",
      "\n",
      "The game with the highest user score:\n",
      "name               Breath of Fire III\n",
      "platform                          PSP\n",
      "year_of_release                  2005\n",
      "genre                    Role-Playing\n",
      "na_sales                          0.0\n",
      "eu_sales                         0.02\n",
      "jp_sales                          0.0\n",
      "other_sales                      0.01\n",
      "total_sales                      0.03\n",
      "critic_score                      NaN\n",
      "user_score                        9.7\n",
      "rating                              T\n",
      "Name: 14412, dtype: object\n",
      "\n",
      "Minimum user score: 0.0\n",
      "Maximum user score: 9.7\n",
      "Average user score: 7.13\n",
      "Median user score: 7.5\n",
      "Standard deviation of user score: 1.50\n",
      "25th percentile (Q1) of user score: 6.4\n",
      "75th percentile (Q3) of user score: 8.2\n",
      "Count of non-null user score: 7463\n",
      "Mode of user score: 7.8\n"
     ]
    }
   ],
   "source": [
    "# Calculate statistics for 'user_score'\n",
    "min_us = df['user_score'].min()\n",
    "max_us = df['user_score'].max()\n",
    "average_us = df['user_score'].mean()\n",
    "median_us = df['user_score'].median()\n",
    "std_dev_us = df['user_score'].std()\n",
    "q1_us = df['user_score'].quantile(0.25)\n",
    "q3_us = df['user_score'].quantile(0.75)\n",
    "count_us = df['user_score'].count()\n",
    "mode_us = df['user_score'].mode()[0] if not df['user_score'].mode().empty else 'No mode'\n",
    "\n",
    "# Get the games with the lowest and highest critic scores\n",
    "game_with_lowest_us = df.loc[df['user_score'].idxmin()]\n",
    "game_with_highest_us = df.loc[df['user_score'].idxmax()]\n",
    "\n",
    "# Print results\n",
    "print(f\"The game with the lowest user score:\\n{game_with_lowest_us}\\n\")\n",
    "print(f\"The game with the highest user score:\\n{game_with_highest_us}\\n\")\n",
    "print(f\"Minimum user score: {min_us}\")\n",
    "print(f\"Maximum user score: {max_us}\")\n",
    "print(f\"Average user score: {average_us:.2f}\")\n",
    "print(f\"Median user score: {median_us}\")\n",
    "print(f\"Standard deviation of user score: {std_dev_us:.2f}\")\n",
    "print(f\"25th percentile (Q1) of user score: {q1_us}\")\n",
    "print(f\"75th percentile (Q3) of user score: {q3_us}\")\n",
    "print(f\"Count of non-null user score: {count_us}\")\n",
    "print(f\"Mode of user score: {mode_us}\")"
   ]
  },
  {
   "cell_type": "code",
   "execution_count": 15,
   "metadata": {},
   "outputs": [
    {
     "name": "stdout",
     "output_type": "stream",
     "text": [
      "           na_sales      eu_sales      jp_sales   other_sales\n",
      "count  16444.000000  16444.000000  16444.000000  16444.000000\n",
      "mean       0.264012      0.145930      0.078487      0.047594\n",
      "std        0.818378      0.506716      0.311100      0.188005\n",
      "min        0.000000      0.000000      0.000000      0.000000\n",
      "25%        0.000000      0.000000      0.000000      0.000000\n",
      "50%        0.080000      0.020000      0.000000      0.010000\n",
      "75%        0.240000      0.110000      0.040000      0.030000\n",
      "max       41.360000     28.960000     10.220000     10.570000\n"
     ]
    }
   ],
   "source": [
    "sales_columns = ['na_sales', 'eu_sales', 'jp_sales', 'other_sales']\n",
    "sales_statistics = df[sales_columns].describe()\n",
    "print(sales_statistics)\n"
   ]
  }
 ],
 "metadata": {
  "kernelspec": {
   "display_name": "Python 3",
   "language": "python",
   "name": "python3"
  },
  "language_info": {
   "codemirror_mode": {
    "name": "ipython",
    "version": 3
   },
   "file_extension": ".py",
   "mimetype": "text/x-python",
   "name": "python",
   "nbconvert_exporter": "python",
   "pygments_lexer": "ipython3",
   "version": "3.11.4"
  }
 },
 "nbformat": 4,
 "nbformat_minor": 2
}
